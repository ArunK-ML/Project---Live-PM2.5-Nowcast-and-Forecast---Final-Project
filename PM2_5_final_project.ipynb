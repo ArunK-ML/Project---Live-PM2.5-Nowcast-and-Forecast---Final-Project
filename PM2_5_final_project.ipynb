{
  "nbformat": 4,
  "nbformat_minor": 0,
  "metadata": {
    "colab": {
      "provenance": [],
      "authorship_tag": "ABX9TyOdt/lOxz6hfc3SMRUDHKau",
      "include_colab_link": true
    },
    "kernelspec": {
      "name": "python3",
      "display_name": "Python 3"
    },
    "language_info": {
      "name": "python"
    }
  },
  "cells": [
    {
      "cell_type": "markdown",
      "metadata": {
        "id": "view-in-github",
        "colab_type": "text"
      },
      "source": [
        "<a href=\"https://colab.research.google.com/github/ArunK-ML/Project---Live-PM2.5-Nowcast-and-Forecast---Final-Project/blob/main/PM2_5_final_project.ipynb\" target=\"_parent\"><img src=\"https://colab.research.google.com/assets/colab-badge.svg\" alt=\"Open In Colab\"/></a>"
      ]
    },
    {
      "cell_type": "code",
      "metadata": {
        "colab": {
          "base_uri": "https://localhost:8080/"
        },
        "id": "c298d8df",
        "outputId": "3acbbe5d-9355-4241-cd9d-23ddf4f15e92"
      },
      "source": [
        "!pip install streamlit>=1.20\n",
        "!pip install pandas>=2.0\n",
        "!pip install numpy>=1.24\n",
        "!pip install requests>=2.28\n",
        "!pip install scikit-learn>=1.2\n",
        "!pip install joblib>=1.3\n",
        "!pip install plotly>=5.15\n",
        "!pip install python-dateutil\n",
        "!pip install pytz"
      ],
      "execution_count": 2,
      "outputs": [
        {
          "output_type": "stream",
          "name": "stdout",
          "text": [
            "Requirement already satisfied: python-dateutil in /usr/local/lib/python3.12/dist-packages (2.9.0.post0)\n",
            "Requirement already satisfied: six>=1.5 in /usr/local/lib/python3.12/dist-packages (from python-dateutil) (1.17.0)\n",
            "Requirement already satisfied: pytz in /usr/local/lib/python3.12/dist-packages (2025.2)\n"
          ]
        }
      ]
    },
    {
      "cell_type": "code",
      "source": [
        "# config.py\n",
        "# Small config defaults — change coordinates to your city\n",
        "\n",
        "DEFAULT_LAT = 13.0827   # Chennai example\n",
        "DEFAULT_LON = 80.2707\n",
        "DEFAULT_RADIUS_M = 10000  # OpenAQ radius in meters\n",
        "DEFAULT_DAYS_HISTORY = 14  # how many days of historical data to pull by default\n"
      ],
      "metadata": {
        "id": "BoMkOxRKIKEK"
      },
      "execution_count": null,
      "outputs": []
    },
    {
      "cell_type": "code",
      "source": [
        "# data_fetch.py\n",
        "import requests\n",
        "import pandas as pd\n",
        "from datetime import datetime, timedelta, date\n",
        "from dateutil import parser\n",
        "\n",
        "OPENAQ_API = \"https://api.openaq.org/v2/measurements\"\n",
        "OPENMETEO_API = \"https://api.open-meteo.com/v1/forecast\"\n",
        "\n",
        "def fetch_openaq_pm25(lat, lon, radius_m=10000, days=14, limit_per_page=10000):\n",
        "    \"\"\"\n",
        "    Fetch PM2.5 measurements from OpenAQ (UTC timestamps).\n",
        "    Aggregates to hourly mean.\n",
        "    Returns DataFrame with index = UTC hourly datetime and column 'pm25'.\n",
        "    \"\"\"\n",
        "    date_to = datetime.utcnow().date()\n",
        "    date_from = date_to - timedelta(days=days)\n",
        "    params = {\n",
        "        \"coordinates\": f\"{lat},{lon}\",\n",
        "        \"radius\": radius_m,\n",
        "        \"parameter\": \"pm25\",\n",
        "        \"date_from\": date_from.isoformat(),\n",
        "        \"date_to\": date_to.isoformat(),\n",
        "        \"limit\": limit_per_page,\n",
        "        \"page\": 1,\n",
        "        \"sort\": \"desc\"\n",
        "    }\n",
        "\n",
        "    rows = []\n",
        "    while True:\n",
        "        r = requests.get(OPENAQ_API, params=params, timeout=30)\n",
        "        r.raise_for_status()\n",
        "        j = r.json()\n",
        "        results = j.get(\"results\", [])\n",
        "        if not results:\n",
        "            break\n",
        "        for rec in results:\n",
        "            # date.utc exists like \"2025-10-04T12:00:00+00:00\"\n",
        "            dt = rec.get(\"date\", {}).get(\"utc\")\n",
        "            if not dt:\n",
        "                continue\n",
        "            try:\n",
        "                ts = parser.isoparse(dt)\n",
        "            except Exception:\n",
        "                continue\n",
        "            rows.append({\"timestamp\": ts, \"pm25\": rec.get(\"value\")})\n",
        "        # paging\n",
        "        params[\"page\"] += 1\n",
        "        # avoid infinite loop if server returns huge data; break if less than limit\n",
        "        if len(results) < limit_per_page:\n",
        "            break\n",
        "\n",
        "    if not rows:\n",
        "        return pd.DataFrame(columns=[\"pm25\"]).astype({\"pm25\": \"float64\"})\n",
        "\n",
        "    df = pd.DataFrame(rows)\n",
        "    df[\"timestamp\"] = pd.to_datetime(df[\"timestamp\"], utc=True)\n",
        "    df = df.set_index(\"timestamp\")\n",
        "    # resample to hourly mean\n",
        "    hourly = df.resample(\"H\").mean().sort_index()\n",
        "    return hourly\n",
        "\n",
        "def fetch_open_meteo_weather(lat, lon, start_date: date, end_date: date, timezone=\"UTC\"):\n",
        "    \"\"\"\n",
        "    Pull hourly weather variables from Open-Meteo.\n",
        "    start_date/end_date are date objects (YYYY-MM-DD).\n",
        "    Returns DataFrame indexed by UTC hourly timestamps with columns:\n",
        "      temperature_2m, relativehumidity_2m, windspeed_10m, winddirection_10m, pressure_msl\n",
        "    \"\"\"\n",
        "    params = {\n",
        "        \"latitude\": lat,\n",
        "        \"longitude\": lon,\n",
        "        \"hourly\": \",\".join(\n",
        "            [\"temperature_2m\", \"relativehumidity_2m\", \"windspeed_10m\", \"winddirection_10m\", \"pressure_msl\"]\n",
        "        ),\n",
        "        \"start_date\": start_date.isoformat(),\n",
        "        \"end_date\": end_date.isoformat(),\n",
        "        \"timezone\": timezone  # can pass \"UTC\" or \"auto\"\n",
        "    }\n",
        "    r = requests.get(OPENMETEO_API, params=params, timeout=30)\n",
        "    r.raise_for_status()\n",
        "    j = r.json()\n",
        "    hourly = j.get(\"hourly\", {})\n",
        "    if not hourly:\n",
        "        return pd.DataFrame()\n",
        "    times = [pd.to_datetime(t).tz_convert(None) if pd.to_datetime(t).tzinfo else pd.to_datetime(t) for t in hourly.get(\"time\", [])]\n",
        "    df = pd.DataFrame(hourly)\n",
        "    # drop the time column duplication\n",
        "    df = df.drop(columns=[\"time\"], errors=\"ignore\")\n",
        "    df.index = pd.to_datetime(hourly[\"time\"])\n",
        "    # ensure timezone naive UTC for alignment\n",
        "    df.index = pd.to_datetime(df.index).tz_convert(None)\n",
        "    df = df.sort_index()\n",
        "    return df\n"
      ],
      "metadata": {
        "id": "4yhc_xEwIX6f"
      },
      "execution_count": null,
      "outputs": []
    },
    {
      "cell_type": "code",
      "source": [
        "# features.py\n",
        "import pandas as pd\n",
        "import numpy as np\n",
        "\n",
        "def add_time_features(df):\n",
        "    df = df.copy()\n",
        "    # ensure datetime index\n",
        "    idx = pd.DatetimeIndex(df.index)\n",
        "    df[\"hour\"] = idx.hour\n",
        "    df[\"weekday\"] = idx.weekday\n",
        "    df[\"month\"] = idx.month\n",
        "    return df\n",
        "\n",
        "def make_lag_roll_features(df, target_col=\"pm25\", max_lag=24):\n",
        "    \"\"\"\n",
        "    df must have 'pm25' in index-aligned rows. Returns DataFrame with lag & rolling features.\n",
        "    \"\"\"\n",
        "    out = df.copy()\n",
        "    # lags\n",
        "    for lag in range(1, max_lag + 1):\n",
        "        out[f\"lag_{lag}\"] = out[target_col].shift(lag)\n",
        "    # rolling windows\n",
        "    out[\"roll_mean_3\"] = out[target_col].rolling(3, min_periods=1).mean().shift(1)\n",
        "    out[\"roll_mean_6\"] = out[target_col].rolling(6, min_periods=1).mean().shift(1)\n",
        "    out[\"roll_mean_24\"] = out[target_col].rolling(24, min_periods=1).mean().shift(1)\n",
        "    out[\"roll_std_24\"] = out[target_col].rolling(24, min_periods=1).std().shift(1).fillna(0.0)\n",
        "    return out\n",
        "\n",
        "def build_feature_matrix(pm_df, weather_df=None, max_lag=24):\n",
        "    \"\"\"\n",
        "    pm_df: DataFrame with index hourly, column 'pm25'\n",
        "    weather_df: DataFrame with hourly weather variables aligned to pm_df index (can be None)\n",
        "    Returns X (features), y (target)\n",
        "    \"\"\"\n",
        "    df = pm_df.copy()\n",
        "    if weather_df is not None and not weather_df.empty:\n",
        "        # join weather features (align by index)\n",
        "        df = df.join(weather_df, how=\"left\")\n",
        "    # create time features\n",
        "    df = add_time_features(df)\n",
        "    # lags/rolling\n",
        "    df = make_lag_roll_features(df, target_col=\"pm25\", max_lag=max_lag)\n",
        "    # anomaly flag might later be added outside\n",
        "    # drop rows where target is NaN (can't train on missing y)\n",
        "    y = df[\"pm25\"].copy()\n",
        "    X = df.drop(columns=[\"pm25\"])\n",
        "    # fill missing numeric features sensibly\n",
        "    numeric_cols = X.select_dtypes(include=[np.number]).columns\n",
        "    X[numeric_cols] = X[numeric_cols].fillna(method=\"ffill\").fillna(method=\"bfill\").fillna(0.0)\n",
        "    return X, y\n"
      ],
      "metadata": {
        "id": "oxtbSyCEIeKg"
      },
      "execution_count": null,
      "outputs": []
    },
    {
      "cell_type": "code",
      "source": [],
      "metadata": {
        "id": "9h4qnE1QIfao"
      },
      "execution_count": null,
      "outputs": []
    }
  ]
}