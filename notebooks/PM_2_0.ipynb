{
  "nbformat": 4,
  "nbformat_minor": 0,
  "metadata": {
    "colab": {
      "provenance": []
    },
    "kernelspec": {
      "name": "python3",
      "display_name": "Python 3"
    },
    "language_info": {
      "name": "python"
    }
  },
  "cells": [
    {
      "cell_type": "markdown",
      "source": [
        "# **__init__**"
      ],
      "metadata": {
        "id": "oQYVdZosPhdE"
      }
    },
    {
      "cell_type": "code",
      "execution_count": null,
      "metadata": {
        "id": "4EuKg-87PZSm"
      },
      "outputs": [],
      "source": [
        "\"\"\"\n",
        "src package for PM2.5 Forecasting Project\n",
        "-----------------------------------------\n",
        "Contains all modules for:\n",
        "- Data fetching (OpenAQ / Open-Meteo)\n",
        "- Preprocessing & feature engineering\n",
        "- Anomaly detection\n",
        "- Forecasting (recursive)\n",
        "- Model training\n",
        "\"\"\"\n",
        "__all__ = [\"fetch\", \"preprocessing\", \"features\", \"anomaly\", \"forecasting\", \"train\"]\n",
        "\n"
      ]
    },
    {
      "cell_type": "markdown",
      "source": [
        "# **forecasting**"
      ],
      "metadata": {
        "id": "IybKSDzgPvGx"
      }
    },
    {
      "cell_type": "code",
      "source": [
        "import numpy as np\n",
        "import pandas as pd\n",
        "\n",
        "def recursive_forecast(model, initial_window, steps, feature_fn=None):\n",
        "    \"\"\"\n",
        "    Perform recursive forecasting for `steps` ahead.\n",
        "    - model: trained regressor\n",
        "    - initial_window: recent feature vector (DataFrame)\n",
        "    - feature_fn: optional function to rebuild features each step\n",
        "    \"\"\"\n",
        "    preds = []\n",
        "    window = initial_window.copy()\n",
        "    for _ in range(steps):\n",
        "        X_last = window.iloc[[-1]].drop(columns=[\"timestamp\", \"pm25\"])\n",
        "        y_pred = model.predict(X_last)[0]\n",
        "        preds.append(y_pred)\n",
        "        next_row = window.iloc[[-1]].copy()\n",
        "        next_row[\"pm25\"] = y_pred\n",
        "        next_row[\"timestamp\"] += pd.Timedelta(hours=1)\n",
        "        window = pd.concat([window, next_row]).reset_index(drop=True)\n",
        "        if feature_fn:\n",
        "            window = feature_fn(window)\n",
        "    forecast_df = pd.DataFrame({\n",
        "        \"timestamp\": pd.date_range(window[\"timestamp\"].iloc[-steps-1], periods=steps+1, freq=\"H\")[1:],\n",
        "        \"forecast\": preds\n",
        "    })\n",
        "    return forecast_df\n"
      ],
      "metadata": {
        "id": "aCehOGo9P6FS"
      },
      "execution_count": null,
      "outputs": []
    },
    {
      "cell_type": "markdown",
      "source": [
        "# **fetch**"
      ],
      "metadata": {
        "id": "bUlLFhgcP9zR"
      }
    },
    {
      "cell_type": "code",
      "source": [
        "import requests\n",
        "import pandas as pd\n",
        "from datetime import datetime, timedelta\n",
        "\n",
        "def fetch_openaq(city=\"Delhi\", hours=72):\n",
        "    \"\"\"Fetch PM2.5 data from OpenAQ API.\"\"\"\n",
        "    end = datetime.utcnow()\n",
        "    start = end - timedelta(hours=hours)\n",
        "    url = f\"https://api.openaq.org/v2/measurements\"\n",
        "    params = {\n",
        "        \"city\": city,\n",
        "        \"parameter\": \"pm25\",\n",
        "        \"date_from\": start.isoformat(timespec=\"seconds\") + \"Z\",\n",
        "        \"date_to\": end.isoformat(timespec=\"seconds\") + \"Z\",\n",
        "        \"limit\": 10000,\n",
        "        \"sort\": \"desc\"\n",
        "    }\n",
        "    r = requests.get(url, params=params)\n",
        "    if r.status_code != 200:\n",
        "        raise Exception(f\"OpenAQ API failed: {r.status_code}\")\n",
        "    results = r.json().get(\"results\", [])\n",
        "    df = pd.DataFrame(results)\n",
        "    if \"date\" in df.columns:\n",
        "        df[\"timestamp\"] = pd.to_datetime(df[\"date\"].apply(lambda x: x[\"utc\"]))\n",
        "    df = df[[\"timestamp\", \"value\"]].rename(columns={\"value\": \"pm25\"}).dropna()\n",
        "    df.sort_values(\"timestamp\", inplace=True)\n",
        "    return df.reset_index(drop=True)\n",
        "\n",
        "def fetch_weather(lat=28.6139, lon=77.2090):\n",
        "    \"\"\"Fetch hourly weather data from Open-Meteo API.\"\"\"\n",
        "    url = \"https://api.open-meteo.com/v1/forecast\"\n",
        "    params = {\n",
        "        \"latitude\": lat,\n",
        "        \"longitude\": lon,\n",
        "        \"hourly\": \"temperature_2m,relative_humidity_2m,wind_speed_10m,pressure_msl\",\n",
        "        \"timezone\": \"UTC\"\n",
        "    }\n",
        "    r = requests.get(url, params=params)\n",
        "    if r.status_code != 200:\n",
        "        raise Exception(\"Weather API fetch failed\")\n",
        "    data = r.json()[\"hourly\"]\n",
        "    df = pd.DataFrame(data)\n",
        "    df[\"timestamp\"] = pd.to_datetime(df[\"time\"])\n",
        "    df.drop(columns=[\"time\"], inplace=True)\n",
        "    return df\n",
        "\n",
        "def merge_datasets(pm_df, weather_df):\n",
        "    \"\"\"Merge PM2.5 with weather data on timestamp.\"\"\"\n",
        "    df = pd.merge_asof(pm_df.sort_values(\"timestamp\"),\n",
        "                       weather_df.sort_values(\"timestamp\"),\n",
        "                       on=\"timestamp\")\n",
        "    return df\n"
      ],
      "metadata": {
        "id": "Yu9plQcpQAyQ"
      },
      "execution_count": null,
      "outputs": []
    },
    {
      "cell_type": "markdown",
      "source": [],
      "metadata": {
        "id": "R8AROI_UQEyX"
      }
    }
  ]
}